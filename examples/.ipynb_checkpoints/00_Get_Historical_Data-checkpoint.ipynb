{
 "cells": [
  {
   "cell_type": "code",
   "execution_count": 23,
   "metadata": {
    "collapsed": false
   },
   "outputs": [
    {
     "data": {
      "text/html": [
       "<script>requirejs.config({paths: { 'plotly': ['https://cdn.plot.ly/plotly-latest.min']},});if(!window.Plotly) {{require(['plotly'],function(plotly) {window.Plotly=plotly;});}}</script>"
      ],
      "text/vnd.plotly.v1+html": [
       "<script>requirejs.config({paths: { 'plotly': ['https://cdn.plot.ly/plotly-latest.min']},});if(!window.Plotly) {{require(['plotly'],function(plotly) {window.Plotly=plotly;});}}</script>"
      ]
     },
     "metadata": {},
     "output_type": "display_data"
    }
   ],
   "source": [
    "import gdax\n",
    "import pandas as pd\n",
    "import pickle\n",
    "import quandl\n",
    "#\n",
    "import plotly.offline as py\n",
    "import plotly.graph_objs as go\n",
    "py.init_notebook_mode(connected=True)"
   ]
  },
  {
   "cell_type": "code",
   "execution_count": null,
   "metadata": {
    "collapsed": false
   },
   "outputs": [],
   "source": [
    "# QUICK EXAMPLE ON HOW TO GET DATA GDAX API\n",
    "# reference: https://docs.gdax.com/?python#get-trades\n",
    "\n",
    "public_client = gdax.PublicClient()\n",
    "public_client.get_product_historic_rates('LTC-EUR', granularity=8)\n",
    "\n",
    "\n",
    "# NOTE:\n",
    "# The maximum number of data points for a single request is 200 candles. \n",
    "# If your selection of start/end time and granularity will result in more than 200 data points, \n",
    "# your request will be rejected. If you wish to retrieve fine granularity data over a larger time range, \n",
    "# you will need to make multiple requests with new start/end ranges.\n",
    "\n",
    "# [\n",
    "#     [ time, low, high, open, close, volume ],\n",
    "#     [ 1415398768, 0.32, 4.2, 0.35, 4.2, 12.3 ],\n",
    "#     ...\n",
    "# ]\n"
   ]
  },
  {
   "cell_type": "code",
   "execution_count": 25,
   "metadata": {
    "collapsed": true
   },
   "outputs": [],
   "source": [
    "# HOW TO GET MORE COMPLETE DATA FROM PAST BOOKS\n",
    "# LET'S TRY TO BUILD A CONSISTENT DATA SET FOR SEVERAL MAIN COINS\n",
    "\n",
    "# see this example : https://blog.patricktriest.com/analyzing-cryptocurrencies-python/\n",
    "# some reference charts : https://www.quandl.com/data/GDAX-GDAX-Global-Digital-Asset-Exchange"
   ]
  },
  {
   "cell_type": "code",
   "execution_count": null,
   "metadata": {
    "collapsed": false
   },
   "outputs": [],
   "source": [
    "# We're using pickle to serialize and save the downloaded data as a file, \n",
    "# which will prevent our script from re-downloading the same data each time we run the script. \n",
    "# The function will return the data as a Pandas dataframe. \n",
    "\n",
    "def get_quandl_data(quandl_id):\n",
    "    '''Download and cache Quandl dataseries'''\n",
    "    cache_path = '{}.pkl'.format(quandl_id).replace('/','-')\n",
    "    try:\n",
    "        f = open(cache_path, 'rb')\n",
    "        df = pickle.load(f)   \n",
    "        print('Loaded {} from cache'.format(quandl_id))\n",
    "    except (OSError, IOError) as e:\n",
    "        print('Downloading {} from Quandl'.format(quandl_id))\n",
    "        df = quandl.get(quandl_id, returns=\"pandas\")\n",
    "        df.to_pickle(cache_path)\n",
    "        print('Cached {} at {}'.format(quandl_id, cache_path))\n",
    "    return df\n",
    "\n",
    "# get exchange rate data for any specific coin\n",
    "btc_eur_price = get_quandl_data('BCHARTS/KRAKENUSD')\n",
    "\n",
    "# check how the it looks like from the first rows\n",
    "btc_eur_price.head()\n"
   ]
  },
  {
   "cell_type": "code",
   "execution_count": null,
   "metadata": {
    "collapsed": false
   },
   "outputs": [],
   "source": [
    "# Plot the data\n",
    "btc_eur_plot = go.Scatter(x=btc_eur_price.index, y=btc_eur_price['Weighted Price'])\n",
    "py.iplot([btc_eur_plot])"
   ]
  }
 ],
 "metadata": {
  "anaconda-cloud": {},
  "kernelspec": {
   "display_name": "Python [conda env:Python35]",
   "language": "python",
   "name": "conda-env-Python35-py"
  },
  "language_info": {
   "codemirror_mode": {
    "name": "ipython",
    "version": 3
   },
   "file_extension": ".py",
   "mimetype": "text/x-python",
   "name": "python",
   "nbconvert_exporter": "python",
   "pygments_lexer": "ipython3",
   "version": "3.5.2"
  }
 },
 "nbformat": 4,
 "nbformat_minor": 2
}
